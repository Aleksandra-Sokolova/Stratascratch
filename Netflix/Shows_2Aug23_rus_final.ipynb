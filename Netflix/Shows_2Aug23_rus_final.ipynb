{
 "cells": [
  {
   "cell_type": "markdown",
   "id": "89c4add7",
   "metadata": {},
   "source": [
    "# Проект по анализу данных\n",
    "\n",
    "# Название: New Shows and Movies\n",
    "\n",
    "# Данные компании: Netflix\n",
    "\n",
    "[Данные с сайта stratascratch](https://platform.stratascratch.com/data-projects/new-shows-and-movies)"
   ]
  },
  {
   "cell_type": "markdown",
   "id": "23a47aaf",
   "metadata": {},
   "source": [
    "<hr style=\"border: 2px solid green;\" />"
   ]
  },
  {
   "cell_type": "markdown",
   "id": "f3933cc3",
   "metadata": {},
   "source": [
    "**Цель:**\n",
    "- Проанализировать данные и выявить инсайты, которые помогут Netflix определить, какие фильмы\\сериалы производить и как  развивать бизнес в разных странах.\n",
    "\n",
    "**Структура проекта:**\n",
    "1. Предобработка данных\n",
    "2. Исследовательский анализ данных (EDA)\n",
    "\n",
    "**Задачи:**\n",
    "- Изучить, как менялось количество фильмов и сериалов, выпущенных с 2000 года\n",
    "- Сравнить данных о фильмах и сериалах\n",
    "- Определить, когда лучшее время для запуска сериала\n",
    "- Проанализировать продолжительность сериалов\n",
    "- Проанализировать продолжительность  фильмов\n",
    "- Провести анализ стран-производителей фильмов\\сериалов, представленных на Netflix\n",
    "\n",
    "**Описание данных:**\n",
    "\n",
    "Файл netflix_data.csv содержит данные о сериалах и фильмах компании Netflix.\n",
    "\n",
    "- show_id - уникальный идентификатор фильма/сериала\n",
    "- type - тип: фильм/сериал\n",
    "- title - название\n",
    "- director - режиссёр\n",
    "- cast - актерский состав\n",
    "- country - страна\n",
    "- date_added - дата добавления на Netflix\n",
    "- release_year - год выпуска фильма\\сериала\n",
    "- rating - телевизионный рейтинг\n",
    "- duration - длительность фильма\\количество сезонов в сериале\n",
    "- listed_in - жанр\n",
    "- description - описание"
   ]
  },
  {
   "cell_type": "markdown",
   "id": "599472bc",
   "metadata": {},
   "source": [
    "<hr style=\"border: 2px solid green;\" />"
   ]
  },
  {
   "cell_type": "markdown",
   "id": "b59d55a6",
   "metadata": {},
   "source": [
    "**Итоги исследования:**\n",
    "\n",
    "**Общее:**\n",
    "\n",
    "- Начиная с 1925 года количество релизов постепенно возрастало и достигло пика в 2018 году. Затем начался небольшой спад;\n",
    "- Значительное увеличение релизов фильмов и сериалов начинается с 2015 года. В 2021 наметился спад, вероятно, по причине пандемии в 2020.\n",
    "- Большая часть фильмов и сериалов на Netflix производства США - 39%. Далее следуют: Индия(12%), Великобритания(8%), Канада(3.6%), Япония(3.4%);\n",
    "- Большая часть фильмов и сериалов на Netflix имеют рейтинг TV-MA (контент для зрелой аудитории) 37.9%. Далее следует TV-14 (24.5%), т.е. подходит для детей младше 14 лет;\n",
    "- Интересно, что доля сериалов в рейтингах TV-Y и TV-Y7 превышает долю фильмов.\n",
    "\n",
    "**Сериалы:**\n",
    "\n",
    "- Доля выпущенных сериалов с 2000 года - 32%;\n",
    "- Подавляющее число релизов происходит **в пятницу (35.2%)**. На втором месте (но с большим отрывом) - **среда (14.2%)**;\n",
    "- Обычно **сериалы стартуют в декабре (10%)**, июле (9.8%) и сентябре (9.4%);\n",
    "- Подавляющее большинство сериалов (67.2%) имеют **всего один сезон**;\n",
    "- Самый длительное сериал - Grey's Anatomy (Анатомия страсти) - состоит из 17 сезонов.\n",
    "- В 2021 количество релизов сериалов превысило количество фильмов. Свою роль сыграла пандемия, кинотеатры закрыты, сильно возрос интерес к стриминговым сервисам по подписке такой тренд сохраняется и сейчас;\n",
    "\n",
    "**Фильмы:**\n",
    "\n",
    "- Доля выпущенных фильмов с 2000 года - 68%;\n",
    "- Средняя продолжительность фильма - **98 минут**;\n",
    "- Самое продолжительный фильм - Black Mirror: Bandersnatch - длится 312 минуты\n",
    "- Пик релизов фильмов приходится на 2017-2018 года. Начиная с 2019 количество выпущенных фильмов начало сокращаться (в т.ч. по причине пандемии);"
   ]
  },
  {
   "cell_type": "markdown",
   "id": "031c1139",
   "metadata": {},
   "source": [
    "<hr style=\"border: 2px solid green;\" />"
   ]
  },
  {
   "cell_type": "code",
   "execution_count": 314,
   "id": "3ab2618c",
   "metadata": {},
   "outputs": [],
   "source": [
    "# Импорт библиотек\n",
    "\n",
    "import pandas as pd\n",
    "import numpy as np\n",
    "import matplotlib.pyplot as plt\n",
    "import seaborn as sns\n",
    "import datetime\n",
    "from scipy import stats as st\n",
    "import requests\n",
    "import re\n",
    "import warnings\n",
    "warnings.filterwarnings(\"ignore\")"
   ]
  },
  {
   "cell_type": "code",
   "execution_count": 315,
   "id": "1abb3274",
   "metadata": {},
   "outputs": [
    {
     "data": {
      "image/png": "[encoded data removed]",
      "text/plain": [
       "<Figure size 400x100 with 1 Axes>"
      ]
     },
     "metadata": {},
     "output_type": "display_data"
    }
   ],
   "source": [
    "sns.palplot(['#221f1f', '#b20710', '#e50914','#f5f5f1'])\n",
    "palette = ['#221f1f', '#b20710', '#e50914','#f5f5f1']\n",
    "\n",
    "plt.title(\"Корпоративная палитра Netflix\", loc='left', fontfamily='serif', fontsize=15, y=1.2)\n",
    "plt.show()"
   ]
  },
  {
   "cell_type": "code",
   "execution_count": 316,
   "id": "76588a8c",
   "metadata": {},
   "outputs": [],
   "source": [
    "df = pd.read_csv(r\"C:\\Users\\mirra\\Desktop\\Yandex.praktikum\\Stratascratch\\New Shows and Movies (DS)\\datasets\\netflix_data.csv\")"
   ]
  },
  {
   "cell_type": "code",
   "execution_count": 317,
   "id": "d190b4eb",
   "metadata": {},
   "outputs": [
    {
     "name": "stdout",
     "output_type": "stream",
     "text": [
      "\n",
      "\u001b[1;30;46m_____________ДАТАСЕТ:  DF_____________\u001b[0;0m\n",
      " \n",
      "\u001b[2;30;47m Вывод первых строк: \u001b[0;0m\n"
     ]
    },
    {
     "data": {
      "text/html": [
       "<div>\n",
       "<style scoped>\n",
       "    .dataframe tbody tr th:only-of-type {\n",
       "        vertical-align: middle;\n",
       "    }\n",
       "\n",
       "    .dataframe tbody tr th {\n",
       "        vertical-align: top;\n",
       "    }\n",
       "\n",
       "    .dataframe thead th {\n",
       "        text-align: right;\n",
       "    }\n",
       "</style>\n",
       "<table border=\"1\" class=\"dataframe\">\n",
       "  <thead>\n",
       "    <tr style=\"text-align: right;\">\n",
       "      <th></th>\n",
       "      <th>show_id</th>\n",
       "      <th>type</th>\n",
       "      <th>title</th>\n",
       "      <th>director</th>\n",
       "      <th>cast</th>\n",
       "      <th>country</th>\n",
       "      <th>date_added</th>\n",
       "      <th>release_year</th>\n",
       "      <th>rating</th>\n",
       "      <th>duration</th>\n",
       "      <th>listed_in</th>\n",
       "      <th>description</th>\n",
       "    </tr>\n",
       "  </thead>\n",
       "  <tbody>\n",
       "    <tr>\n",
       "      <th>0</th>\n",
       "      <td>s1</td>\n",
       "      <td>Movie</td>\n",
       "      <td>Dick Johnson Is Dead</td>\n",
       "      <td>Kirsten Johnson</td>\n",
       "      <td>NaN</td>\n",
       "      <td>United States</td>\n",
       "      <td>September 25, 2021</td>\n",
       "      <td>2020</td>\n",
       "      <td>PG-13</td>\n",
       "      <td>90 min</td>\n",
       "      <td>Documentaries</td>\n",
       "      <td>As her father nears the end of his life, filmm...</td>\n",
       "    </tr>\n",
       "    <tr>\n",
       "      <th>1</th>\n",
       "      <td>s2</td>\n",
       "      <td>TV Show</td>\n",
       "      <td>Blood &amp; Water</td>\n",
       "      <td>NaN</td>\n",
       "      <td>Ama Qamata, Khosi Ngema, Gail Mabalane, Thaban...</td>\n",
       "      <td>South Africa</td>\n",
       "      <td>September 24, 2021</td>\n",
       "      <td>2021</td>\n",
       "      <td>TV-MA</td>\n",
       "      <td>2 Seasons</td>\n",
       "      <td>International TV Shows, TV Dramas, TV Mysteries</td>\n",
       "      <td>After crossing paths at a party, a Cape Town t...</td>\n",
       "    </tr>\n",
       "    <tr>\n",
       "      <th>2</th>\n",
       "      <td>s3</td>\n",
       "      <td>TV Show</td>\n",
       "      <td>Ganglands</td>\n",
       "      <td>Julien Leclercq</td>\n",
       "      <td>Sami Bouajila, Tracy Gotoas, Samuel Jouy, Nabi...</td>\n",
       "      <td>NaN</td>\n",
       "      <td>September 24, 2021</td>\n",
       "      <td>2021</td>\n",
       "      <td>TV-MA</td>\n",
       "      <td>1 Season</td>\n",
       "      <td>Crime TV Shows, International TV Shows, TV Act...</td>\n",
       "      <td>To protect his family from a powerful drug lor...</td>\n",
       "    </tr>\n",
       "  </tbody>\n",
       "</table>\n",
       "</div>"
      ],
      "text/plain": [
       "  show_id     type                 title         director  \\\n",
       "0      s1    Movie  Dick Johnson Is Dead  Kirsten Johnson   \n",
       "1      s2  TV Show         Blood & Water              NaN   \n",
       "2      s3  TV Show             Ganglands  Julien Leclercq   \n",
       "\n",
       "                                                cast        country  \\\n",
       "0                                                NaN  United States   \n",
       "1  Ama Qamata, Khosi Ngema, Gail Mabalane, Thaban...   South Africa   \n",
       "2  Sami Bouajila, Tracy Gotoas, Samuel Jouy, Nabi...            NaN   \n",
       "\n",
       "           date_added  release_year rating   duration  \\\n",
       "0  September 25, 2021          2020  PG-13     90 min   \n",
       "1  September 24, 2021          2021  TV-MA  2 Seasons   \n",
       "2  September 24, 2021          2021  TV-MA   1 Season   \n",
       "\n",
       "                                           listed_in  \\\n",
       "0                                      Documentaries   \n",
       "1    International TV Shows, TV Dramas, TV Mysteries   \n",
       "2  Crime TV Shows, International TV Shows, TV Act...   \n",
       "\n",
       "                                         description  \n",
       "0  As her father nears the end of his life, filmm...  \n",
       "1  After crossing paths at a party, a Cape Town t...  \n",
       "2  To protect his family from a powerful drug lor...  "
      ]
     },
     "metadata": {},
     "output_type": "display_data"
    },
    {
     "name": "stdout",
     "output_type": "stream",
     "text": [
      "\n",
      "\u001b[2;30;47m Общая информация: \u001b[0;0m\n",
      "<class 'pandas.core.frame.DataFrame'>\n",
      "RangeIndex: 8807 entries, 0 to 8806\n",
      "Data columns (total 12 columns):\n",
      " #   Column        Non-Null Count  Dtype \n",
      "---  ------        --------------  ----- \n",
      " 0   show_id       8807 non-null   object\n",
      " 1   type          8807 non-null   object\n",
      " 2   title         8807 non-null   object\n",
      " 3   director      6173 non-null   object\n",
      " 4   cast          7982 non-null   object\n",
      " 5   country       7976 non-null   object\n",
      " 6   date_added    8797 non-null   object\n",
      " 7   release_year  8807 non-null   int64 \n",
      " 8   rating        8803 non-null   object\n",
      " 9   duration      8804 non-null   object\n",
      " 10  listed_in     8807 non-null   object\n",
      " 11  description   8807 non-null   object\n",
      "dtypes: int64(1), object(11)\n",
      "memory usage: 8.5 MB\n"
     ]
    },
    {
     "data": {
      "text/plain": [
       "None"
      ]
     },
     "metadata": {},
     "output_type": "display_data"
    },
    {
     "name": "stdout",
     "output_type": "stream",
     "text": [
      "\u001b[2;30;47m Подсчет доли пропусков в %: \u001b[0;0m\n"
     ]
    },
    {
     "data": {
      "text/plain": [
       "show_id          0.00\n",
       "type             0.00\n",
       "title            0.00\n",
       "director        29.91\n",
       "cast             9.37\n",
       "country          9.44\n",
       "date_added       0.11\n",
       "release_year     0.00\n",
       "rating           0.05\n",
       "duration         0.03\n",
       "listed_in        0.00\n",
       "description      0.00\n",
       "dtype: float64"
      ]
     },
     "metadata": {},
     "output_type": "display_data"
    },
    {
     "name": "stdout",
     "output_type": "stream",
     "text": [
      "\u001b[2;30;47m Подсчет дубликатов\u001b[0;0m    0.0  %\n",
      "\n",
      "\u001b[2;30;47m Общая сводка строковых значений: \u001b[0;0m\n"
     ]
    },
    {
     "data": {
      "text/html": [
       "<div>\n",
       "<style scoped>\n",
       "    .dataframe tbody tr th:only-of-type {\n",
       "        vertical-align: middle;\n",
       "    }\n",
       "\n",
       "    .dataframe tbody tr th {\n",
       "        vertical-align: top;\n",
       "    }\n",
       "\n",
       "    .dataframe thead th {\n",
       "        text-align: right;\n",
       "    }\n",
       "</style>\n",
       "<table border=\"1\" class=\"dataframe\">\n",
       "  <thead>\n",
       "    <tr style=\"text-align: right;\">\n",
       "      <th></th>\n",
       "      <th>count</th>\n",
       "      <th>unique</th>\n",
       "      <th>top</th>\n",
       "      <th>freq</th>\n",
       "    </tr>\n",
       "  </thead>\n",
       "  <tbody>\n",
       "    <tr>\n",
       "      <th>show_id</th>\n",
       "      <td>8807</td>\n",
       "      <td>8807</td>\n",
       "      <td>s1</td>\n",
       "      <td>1</td>\n",
       "    </tr>\n",
       "    <tr>\n",
       "      <th>type</th>\n",
       "      <td>8807</td>\n",
       "      <td>2</td>\n",
       "      <td>Movie</td>\n",
       "      <td>6131</td>\n",
       "    </tr>\n",
       "    <tr>\n",
       "      <th>title</th>\n",
       "      <td>8807</td>\n",
       "      <td>8807</td>\n",
       "      <td>Dick Johnson Is Dead</td>\n",
       "      <td>1</td>\n",
       "    </tr>\n",
       "    <tr>\n",
       "      <th>director</th>\n",
       "      <td>6173</td>\n",
       "      <td>4528</td>\n",
       "      <td>Rajiv Chilaka</td>\n",
       "      <td>19</td>\n",
       "    </tr>\n",
       "    <tr>\n",
       "      <th>cast</th>\n",
       "      <td>7982</td>\n",
       "      <td>7692</td>\n",
       "      <td>David Attenborough</td>\n",
       "      <td>19</td>\n",
       "    </tr>\n",
       "    <tr>\n",
       "      <th>country</th>\n",
       "      <td>7976</td>\n",
       "      <td>748</td>\n",
       "      <td>United States</td>\n",
       "      <td>2818</td>\n",
       "    </tr>\n",
       "    <tr>\n",
       "      <th>date_added</th>\n",
       "      <td>8797</td>\n",
       "      <td>1767</td>\n",
       "      <td>January 1, 2020</td>\n",
       "      <td>109</td>\n",
       "    </tr>\n",
       "    <tr>\n",
       "      <th>rating</th>\n",
       "      <td>8803</td>\n",
       "      <td>17</td>\n",
       "      <td>TV-MA</td>\n",
       "      <td>3207</td>\n",
       "    </tr>\n",
       "    <tr>\n",
       "      <th>duration</th>\n",
       "      <td>8804</td>\n",
       "      <td>220</td>\n",
       "      <td>1 Season</td>\n",
       "      <td>1793</td>\n",
       "    </tr>\n",
       "    <tr>\n",
       "      <th>listed_in</th>\n",
       "      <td>8807</td>\n",
       "      <td>514</td>\n",
       "      <td>Dramas, International Movies</td>\n",
       "      <td>362</td>\n",
       "    </tr>\n",
       "    <tr>\n",
       "      <th>description</th>\n",
       "      <td>8807</td>\n",
       "      <td>8775</td>\n",
       "      <td>Paranormal activity at a lush, abandoned prope...</td>\n",
       "      <td>4</td>\n",
       "    </tr>\n",
       "  </tbody>\n",
       "</table>\n",
       "</div>"
      ],
      "text/plain": [
       "            count unique                                                top  \\\n",
       "show_id      8807   8807                                                 s1   \n",
       "type         8807      2                                              Movie   \n",
       "title        8807   8807                               Dick Johnson Is Dead   \n",
       "director     6173   4528                                      Rajiv Chilaka   \n",
       "cast         7982   7692                                 David Attenborough   \n",
       "country      7976    748                                      United States   \n",
       "date_added   8797   1767                                    January 1, 2020   \n",
       "rating       8803     17                                              TV-MA   \n",
       "duration     8804    220                                           1 Season   \n",
       "listed_in    8807    514                       Dramas, International Movies   \n",
       "description  8807   8775  Paranormal activity at a lush, abandoned prope...   \n",
       "\n",
       "             freq  \n",
       "show_id         1  \n",
       "type         6131  \n",
       "title           1  \n",
       "director       19  \n",
       "cast           19  \n",
       "country      2818  \n",
       "date_added    109  \n",
       "rating       3207  \n",
       "duration     1793  \n",
       "listed_in     362  \n",
       "description     4  "
      ]
     },
     "metadata": {},
     "output_type": "display_data"
    },
    {
     "name": "stdout",
     "output_type": "stream",
     "text": [
      "\n",
      "\u001b[2;30;47m Сводка числовых значений, включая даты: \u001b[0;0m\n"
     ]
    },
    {
     "data": {
      "text/html": [
       "<div>\n",
       "<style scoped>\n",
       "    .dataframe tbody tr th:only-of-type {\n",
       "        vertical-align: middle;\n",
       "    }\n",
       "\n",
       "    .dataframe tbody tr th {\n",
       "        vertical-align: top;\n",
       "    }\n",
       "\n",
       "    .dataframe thead th {\n",
       "        text-align: right;\n",
       "    }\n",
       "</style>\n",
       "<table border=\"1\" class=\"dataframe\">\n",
       "  <thead>\n",
       "    <tr style=\"text-align: right;\">\n",
       "      <th></th>\n",
       "      <th>count</th>\n",
       "      <th>mean</th>\n",
       "      <th>std</th>\n",
       "      <th>min</th>\n",
       "      <th>25%</th>\n",
       "      <th>50%</th>\n",
       "      <th>75%</th>\n",
       "      <th>max</th>\n",
       "    </tr>\n",
       "  </thead>\n",
       "  <tbody>\n",
       "    <tr>\n",
       "      <th>release_year</th>\n",
       "      <td>8807.0</td>\n",
       "      <td>2014.180198</td>\n",
       "      <td>8.819312</td>\n",
       "      <td>1925.0</td>\n",
       "      <td>2013.0</td>\n",
       "      <td>2017.0</td>\n",
       "      <td>2019.0</td>\n",
       "      <td>2021.0</td>\n",
       "    </tr>\n",
       "  </tbody>\n",
       "</table>\n",
       "</div>"
      ],
      "text/plain": [
       "               count         mean       std     min     25%     50%     75%  \\\n",
       "release_year  8807.0  2014.180198  8.819312  1925.0  2013.0  2017.0  2019.0   \n",
       "\n",
       "                 max  \n",
       "release_year  2021.0  "
      ]
     },
     "metadata": {},
     "output_type": "display_data"
    },
    {
     "name": "stdout",
     "output_type": "stream",
     "text": [
      "\n",
      "\u001b[01;30;46m_____________ОКОНЧАНИЕ ОТЧЕТА ПО ДАТАСЕТУ_____________\u001b[0;0m\n",
      "\n",
      "\n"
     ]
    }
   ],
   "source": [
    "# Выведем данные с общей информацией о датасете\n",
    "\n",
    "tables = {'df':df}\n",
    "\n",
    "for name, table in tables.items():\n",
    "    print(\n",
    "        f'\\n\\033[1;30;46m_____________ДАТАСЕТ:  {name.upper()}_____________\\033[0;0m\\n',\n",
    "        '\\n\\033[2;30;47m Вывод первых строк: \\033[0;0m',\n",
    "        )\n",
    "    display(table.head(3))\n",
    "    print('\\n\\033[2;30;47m Общая информация: \\033[0;0m')\n",
    "    display(table.info(memory_usage='deep'))\n",
    "    print('\\033[2;30;47m Подсчет доли пропусков в %: \\033[0;0m')\n",
    "    display(round(table.isnull().mean() * 100, 2))\n",
    "    print(\n",
    "        '\\033[2;30;47m Подсчет дубликатов\\033[0;0m', \n",
    "        '  ', round(table.duplicated().mean() * 100, 4),  ' %'\n",
    "        )\n",
    "    print('\\n\\033[2;30;47m Общая сводка строковых значений: \\033[0;0m')\n",
    "    try:\n",
    "        display(table.describe(include=['object']).T)\n",
    "    except:\n",
    "        print('Датасет не содержит строковых значений')\n",
    "    print('\\n\\033[2;30;47m Сводка числовых значений, включая даты: \\033[0;0m')\n",
    "    try:\n",
    "        display(table.describe(datetime_is_numeric=True).T)\n",
    "    except:\n",
    "        print('Датасет не содержит числовых значений')\n",
    "    print ('\\n\\033[01;30;46m_____________ОКОНЧАНИЕ ОТЧЕТА ПО ДАТАСЕТУ_____________\\033[0;0m\\n\\n')"
   ]
  },
  {
   "cell_type": "markdown",
   "id": "91c6caef",
   "metadata": {},
   "source": [
    "**Выводы по датасету:**\n",
    "\n",
    "- Полные дубликаты отсутствуют;\n",
    "- Есть пропуски. Большая часть в колонках `director` (29.91%), `cast` (9.37%) и `country` (9.44%). \n",
    "- Так как пропусков в ключевой колонке с названием фильма\\сериала `title` нет, строки с пропущенными значениями удалять не будем, а пропуски в колонках director, cast и country заполним заглушкой 'No Data';\n",
    "- Колонка с датой добавления на Netflix (`date_added`) имеет тип object. Применим к колонке метод `pd.to_datetime`; \n",
    "- Колонка `duration` содержит данные о длительности фильма и сериала в формате object. Ее преобразуем так - сделаем два среда (один для фильмов, другой для сериалов), затем в срезе по фильмам `duration` преобразуем в int и посмотрим распределение. А в срезе по сериалам оставим object, затем сгруппируем и посмотрим, какое количество сезонов бывает. "
   ]
  },
  {
   "cell_type": "markdown",
   "id": "35370ba2",
   "metadata": {},
   "source": [
    "<hr style=\"border: 2px solid green;\" />"
   ]
  },
  {
   "cell_type": "markdown",
   "id": "619b9cb5",
   "metadata": {},
   "source": [
    "## 1. Предобработка данных"
   ]
  },
  {
   "cell_type": "code",
   "execution_count": 318,
   "id": "68aa226a",
   "metadata": {},
   "outputs": [],
   "source": [
    "# Заполнение пропусков заглушкой\n",
    "df['director'].replace(np.nan, 'No Data', inplace  = True)\n",
    "df['cast'].replace(np.nan, 'No Data', inplace  = True)\n",
    "df['country'].replace(np.nan, 'No Data', inplace  = True)"
   ]
  },
  {
   "cell_type": "code",
   "execution_count": 319,
   "id": "017381d4",
   "metadata": {},
   "outputs": [
    {
     "data": {
      "text/plain": [
       "array(['PG-13', 'TV-MA', 'PG', 'TV-14', 'TV-PG', 'TV-Y', 'TV-Y7', 'R',\n",
       "       'TV-G', 'G', 'NC-17', '74 min', '84 min', '66 min', 'NR', nan,\n",
       "       'TV-Y7-FV', 'UR'], dtype=object)"
      ]
     },
     "metadata": {},
     "output_type": "display_data"
    }
   ],
   "source": [
    "# Присутствуют некорректные значения в колонке rating - '74 min', '84 min', '66 min'\n",
    "display(df['rating'].unique())\n",
    "\n",
    "df['rating'].replace('74 min', 'No Data', inplace  = True)\n",
    "df['rating'].replace('84 min', 'No Data', inplace  = True)\n",
    "df['rating'].replace('66 min', 'No Data', inplace  = True)\n",
    "df['rating'].replace(np.nan, 'No Data', inplace  = True)"
   ]
  },
  {
   "cell_type": "code",
   "execution_count": 320,
   "id": "cb1daa5e",
   "metadata": {},
   "outputs": [],
   "source": [
    "# Добавим новую колонку date с типом данных datetime64\n",
    "df['date'] = pd.to_datetime(df['date_added'])"
   ]
  },
  {
   "cell_type": "code",
   "execution_count": 321,
   "id": "7454cfde",
   "metadata": {},
   "outputs": [
    {
     "name": "stdout",
     "output_type": "stream",
     "text": [
      "<class 'pandas.core.frame.DataFrame'>\n",
      "RangeIndex: 8807 entries, 0 to 8806\n",
      "Data columns (total 13 columns):\n",
      " #   Column        Non-Null Count  Dtype         \n",
      "---  ------        --------------  -----         \n",
      " 0   show_id       8807 non-null   object        \n",
      " 1   type          8807 non-null   object        \n",
      " 2   title         8807 non-null   object        \n",
      " 3   director      8807 non-null   object        \n",
      " 4   cast          8807 non-null   object        \n",
      " 5   country       8807 non-null   object        \n",
      " 6   date_added    8797 non-null   object        \n",
      " 7   release_year  8807 non-null   int64         \n",
      " 8   rating        8807 non-null   object        \n",
      " 9   duration      8804 non-null   object        \n",
      " 10  listed_in     8807 non-null   object        \n",
      " 11  description   8807 non-null   object        \n",
      " 12  date          8797 non-null   datetime64[ns]\n",
      "dtypes: datetime64[ns](1), int64(1), object(11)\n",
      "memory usage: 894.6+ KB\n"
     ]
    }
   ],
   "source": [
    "df.info()"
   ]
  },
  {
   "cell_type": "markdown",
   "id": "a2ba028d",
   "metadata": {},
   "source": [
    "### Выводы:\n",
    "\n",
    "- Пропусти в колонках `director`, `cast`, `country`, а также некорректные значения в `rating` заполнены заглушкой;\n",
    "- Создана колонка  `date` с типом данных `datetime64`. Далее выделим из нее день недели и месяц релиза фильма на Netflix."
   ]
  },
  {
   "cell_type": "markdown",
   "id": "a66282c8",
   "metadata": {},
   "source": [
    "<hr style=\"border: 2px solid green;\" />"
   ]
  },
  {
   "cell_type": "markdown",
   "id": "8f7b7891",
   "metadata": {},
   "source": [
    "## 2. Исследовательский анализ данных (EDA)"
   ]
  },
  {
   "cell_type": "markdown",
   "id": "61cb5bcc",
   "metadata": {},
   "source": [
    "### Изменение количества фильмов и сериалов, выпущенных с 2000 года"
   ]
  },
  {
   "cell_type": "code",
   "execution_count": 322,
   "id": "27aed180",
   "metadata": {},
   "outputs": [],
   "source": [
    "# Срез - датасет с фильмами и сериалами, выпущенными с 2000 года\n",
    "df_2 = df[df['release_year'] >= 2000]"
   ]
  },
  {
   "cell_type": "code",
   "execution_count": 323,
   "id": "60a13b60",
   "metadata": {},
   "outputs": [
    {
     "data": {
      "image/png": "[encoded data removed]",
      "text/plain": [
       "<Figure size 1500x500 with 1 Axes>"
      ]
     },
     "metadata": {},
     "output_type": "display_data"
    }
   ],
   "source": [
    "    plt.figure(figsize=(15, 5))\n",
    "    plt.grid(True)\n",
    "    sns.barplot(x='release_year', y='show_id', \n",
    "                data=df.groupby('release_year')['show_id'].count().to_frame().reset_index().sort_values(by='release_year', ascending=False), \n",
    "                palette=\"rocket\", \n",
    "                saturation=.5)\n",
    "    sns.set_style(\"whitegrid\")\n",
    "    plt.title('Количество выпущенных фильмов и сериалов по годам за все время', size=14)\n",
    "    plt.xlabel('Год выпуска', size=13)\n",
    "    plt.ylabel('Количество фильмов и сериалов', size=13)\n",
    "    plt.xticks(rotation=90)\n",
    "    plt.show()"
   ]
  },
  {
   "cell_type": "code",
   "execution_count": 324,
   "id": "195cf01e",
   "metadata": {
    "scrolled": false
   },
   "outputs": [
    {
     "data": {
      "image/png": "[encoded data removed]",
      "text/plain": [
       "<Figure size 1500x500 with 1 Axes>"
      ]
     },
     "metadata": {},
     "output_type": "display_data"
    }
   ],
   "source": [
    "    plt.figure(figsize=(15, 5))\n",
    "    plt.grid(True)\n",
    "    sns.barplot(x='release_year', y='show_id', \n",
    "                data=df_2.groupby('release_year')['show_id'].count().to_frame().reset_index().sort_values(by='release_year', ascending=False), \n",
    "                palette=\"rocket\", \n",
    "                saturation=.5)\n",
    "    sns.set_style(\"whitegrid\")\n",
    "    plt.title('Количество выпущенных фильмов и сериалов с 2000 года', size=14)\n",
    "    plt.xlabel('Год выпуска', size=13)\n",
    "    plt.ylabel('Количество фильмов', size=13)\n",
    "    plt.show()"
   ]
  },
  {
   "cell_type": "markdown",
   "id": "2b16e766",
   "metadata": {},
   "source": [
    "### Выводы:\n",
    "\n",
    "- Начиная с 1925 количество релизов постепенно возрастало и достигло пика в 2018 году. Затем начался небольшой спад;\n",
    "- Значительное увеличение релизов начинается с 2015 года;\n",
    "- В 2021 виден резкий спад, вероятно, по причине пандемии в 2020. \n"
   ]
  },
  {
   "cell_type": "markdown",
   "id": "17ff5b82",
   "metadata": {},
   "source": [
    "<hr style=\"border: 2px solid green;\" />"
   ]
  },
  {
   "cell_type": "markdown",
   "id": "81afc077",
   "metadata": {},
   "source": [
    "### Сравнение данных о фильмах и сериалах"
   ]
  },
  {
   "cell_type": "code",
   "execution_count": 325,
   "id": "2dca9bac",
   "metadata": {},
   "outputs": [
    {
     "data": {
      "text/plain": [
       "Movie      0.696151\n",
       "TV Show    0.303849\n",
       "Name: type, dtype: float64"
      ]
     },
     "execution_count": 325,
     "metadata": {},
     "output_type": "execute_result"
    }
   ],
   "source": [
    "# Доля фильмов и сериалов за все время\n",
    "df['type'].value_counts(normalize=True)"
   ]
  },
  {
   "cell_type": "code",
   "execution_count": 326,
   "id": "53a59d1f",
   "metadata": {},
   "outputs": [
    {
     "data": {
      "text/plain": [
       "Movie      0.682806\n",
       "TV Show    0.317194\n",
       "Name: type, dtype: float64"
      ]
     },
     "execution_count": 326,
     "metadata": {},
     "output_type": "execute_result"
    }
   ],
   "source": [
    "# Доля фильмов и сериалов с 2000 года\n",
    "df_2['type'].value_counts(normalize=True)"
   ]
  },
  {
   "cell_type": "code",
   "execution_count": 327,
   "id": "a3809bb6",
   "metadata": {},
   "outputs": [],
   "source": [
    "type_count = df_2.groupby(['release_year', 'type'])['show_id'].count().to_frame().rename(columns={'show_id':'count'}).reset_index()\n",
    "type_count['share'] = ((type_count[type_count['type'] == 'Movie']['count'] / \n",
    "                        type_count[type_count['type'] == 'Movie']['count'].sum()) *100).round(3)\n",
    "type_count['share_2'] = ((type_count[type_count['type'] == 'TV Show']['count'] /\n",
    "                          type_count[type_count['type'] == 'TV Show']['count'].sum()) *100).round(3)\n",
    "\n",
    "#type_count"
   ]
  },
  {
   "cell_type": "code",
   "execution_count": 328,
   "id": "7966592a",
   "metadata": {},
   "outputs": [
    {
     "name": "stdout",
     "output_type": "stream",
     "text": [
      "Количество выпущенных фильмов за период: 5655 , доля фильмов: 0.68\n",
      "Количество выпущенных шоу за период: 2627 , доля шоу: 0.32\n"
     ]
    }
   ],
   "source": [
    "print('Количество выпущенных фильмов за период:', type_count[type_count['type'] == 'Movie']['count'].sum(), \n",
    "      ', доля фильмов:', df_2['type'].value_counts(normalize=True)[0].round(2))\n",
    "print('Количество выпущенных шоу за период:', type_count[type_count['type'] == 'TV Show']['count'].sum(), \n",
    "      ', доля шоу:', df_2['type'].value_counts(normalize=True)[1].round(2))"
   ]
  },
  {
   "cell_type": "code",
   "execution_count": 329,
   "id": "4f9f1449",
   "metadata": {},
   "outputs": [
    {
     "data": {
      "text/plain": [
       "8282"
      ]
     },
     "execution_count": 329,
     "metadata": {},
     "output_type": "execute_result"
    }
   ],
   "source": [
    "type_count['count'].sum()"
   ]
  },
  {
   "cell_type": "code",
   "execution_count": 330,
   "id": "daec4719",
   "metadata": {},
   "outputs": [
    {
     "data": {
      "image/png": "[encoded data removed]",
      "text/plain": [
       "<Figure size 1500x500 with 1 Axes>"
      ]
     },
     "metadata": {},
     "output_type": "display_data"
    }
   ],
   "source": [
    "plt.figure(figsize = (15,5))\n",
    "\n",
    "ax = sns.barplot(y='count', x= 'release_year', data=type_count, hue = 'type', palette=palette)\n",
    "plt.title('Соотношение фильмов и сериалов')\n",
    "plt.xlabel('Год выпуска')\n",
    "plt.ylabel('Количество')\n",
    "plt.legend(title='Тип', loc='upper right')\n",
    "plt.grid()\n",
    "ax.tick_params(direction=\"in\", length=10)\n",
    "ax.set_axisbelow(True);"
   ]
  },
  {
   "cell_type": "markdown",
   "id": "e2cac961",
   "metadata": {},
   "source": [
    "### Выводы:\n",
    "\n",
    "- Доля выпущенных фильмов с 2000 года - 68%;\n",
    "- Доля выпущенных сериалов с 2000 года - 32%;\n",
    "- Пик релизов фильмов приходится на 2017-2018 года;\n",
    "- Начиная с 2019 количество фильмов начало сокращаться (в т.ч. по причине пандемии)\n",
    "- В 2021 количество релизов сериалов превысило количество фильмов. Свою роль сыграла пандемия, кинотеатры закрыты, сильно возрос интерес к стриминговым сервисам по подписке такой тренд сохраняется и сейчас. \n"
   ]
  },
  {
   "cell_type": "markdown",
   "id": "c4189091",
   "metadata": {},
   "source": [
    "<hr style=\"border: 2px solid green;\" />"
   ]
  },
  {
   "cell_type": "markdown",
   "id": "b71419f7",
   "metadata": {},
   "source": [
    "### Когда лучшее время для запуска сериала?"
   ]
  },
  {
   "cell_type": "code",
   "execution_count": 331,
   "id": "7ea955d7",
   "metadata": {},
   "outputs": [],
   "source": [
    "# Добавим новые колонки \n",
    "df_2['year_month'] = df_2['date'].dt.to_period(\"M\")\n",
    "df_2['weekday'] = df_2['date'].dt.day_name()\n",
    "df_2['month_name'] = df_2['date'].dt.month_name()"
   ]
  },
  {
   "cell_type": "code",
   "execution_count": 332,
   "id": "6ebb0e97",
   "metadata": {},
   "outputs": [
    {
     "data": {
      "text/html": [
       "<div>\n",
       "<style scoped>\n",
       "    .dataframe tbody tr th:only-of-type {\n",
       "        vertical-align: middle;\n",
       "    }\n",
       "\n",
       "    .dataframe tbody tr th {\n",
       "        vertical-align: top;\n",
       "    }\n",
       "\n",
       "    .dataframe thead th {\n",
       "        text-align: right;\n",
       "    }\n",
       "</style>\n",
       "<table border=\"1\" class=\"dataframe\">\n",
       "  <thead>\n",
       "    <tr style=\"text-align: right;\">\n",
       "      <th></th>\n",
       "      <th>weekday</th>\n",
       "      <th>show_id</th>\n",
       "      <th>share</th>\n",
       "    </tr>\n",
       "  </thead>\n",
       "  <tbody>\n",
       "    <tr>\n",
       "      <th>0</th>\n",
       "      <td>Friday</td>\n",
       "      <td>920</td>\n",
       "      <td>35.2</td>\n",
       "    </tr>\n",
       "    <tr>\n",
       "      <th>1</th>\n",
       "      <td>Monday</td>\n",
       "      <td>220</td>\n",
       "      <td>8.4</td>\n",
       "    </tr>\n",
       "    <tr>\n",
       "      <th>2</th>\n",
       "      <td>Saturday</td>\n",
       "      <td>252</td>\n",
       "      <td>9.6</td>\n",
       "    </tr>\n",
       "    <tr>\n",
       "      <th>3</th>\n",
       "      <td>Sunday</td>\n",
       "      <td>177</td>\n",
       "      <td>6.8</td>\n",
       "    </tr>\n",
       "    <tr>\n",
       "      <th>4</th>\n",
       "      <td>Thursday</td>\n",
       "      <td>338</td>\n",
       "      <td>12.9</td>\n",
       "    </tr>\n",
       "    <tr>\n",
       "      <th>5</th>\n",
       "      <td>Tuesday</td>\n",
       "      <td>338</td>\n",
       "      <td>12.9</td>\n",
       "    </tr>\n",
       "    <tr>\n",
       "      <th>6</th>\n",
       "      <td>Wednesday</td>\n",
       "      <td>372</td>\n",
       "      <td>14.2</td>\n",
       "    </tr>\n",
       "  </tbody>\n",
       "</table>\n",
       "</div>"
      ],
      "text/plain": [
       "     weekday  show_id  share\n",
       "0     Friday      920   35.2\n",
       "1     Monday      220    8.4\n",
       "2   Saturday      252    9.6\n",
       "3     Sunday      177    6.8\n",
       "4   Thursday      338   12.9\n",
       "5    Tuesday      338   12.9\n",
       "6  Wednesday      372   14.2"
      ]
     },
     "execution_count": 332,
     "metadata": {},
     "output_type": "execute_result"
    }
   ],
   "source": [
    "# Создаем срез по сериалам\n",
    "show = df_2[df_2['type'] == 'TV Show']\n",
    "\n",
    "show_weekday = show.groupby('weekday')['show_id'].count().to_frame().reset_index()\n",
    "\n",
    "# Доля \n",
    "show_weekday['share'] = (show_weekday['show_id'] / show_weekday['show_id'].sum()).round(3) *100\n",
    "show_weekday"
   ]
  },
  {
   "cell_type": "code",
   "execution_count": 333,
   "id": "47b07e52",
   "metadata": {},
   "outputs": [
    {
     "data": {
      "image/png": "[encoded data removed]",
      "text/plain": [
       "<Figure size 1500x500 with 1 Axes>"
      ]
     },
     "metadata": {},
     "output_type": "display_data"
    }
   ],
   "source": [
    "    plt.figure(figsize=(15, 5))\n",
    "    plt.grid(True)\n",
    "    sns.barplot(x='weekday', y='show_id', \n",
    "                data=show_weekday, \n",
    "                palette=\"rocket\", \n",
    "                saturation=.5)\n",
    "    sns.set_style(\"whitegrid\")\n",
    "    plt.title('Количество выпущенных сериалов по дням недели', size=14)\n",
    "    plt.xlabel('День недели', size=13)\n",
    "    plt.ylabel('Количество', size=13)\n",
    "    plt.show()"
   ]
  },
  {
   "cell_type": "code",
   "execution_count": 334,
   "id": "508fa23e",
   "metadata": {},
   "outputs": [
    {
     "data": {
      "text/html": [
       "<div>\n",
       "<style scoped>\n",
       "    .dataframe tbody tr th:only-of-type {\n",
       "        vertical-align: middle;\n",
       "    }\n",
       "\n",
       "    .dataframe tbody tr th {\n",
       "        vertical-align: top;\n",
       "    }\n",
       "\n",
       "    .dataframe thead th {\n",
       "        text-align: right;\n",
       "    }\n",
       "</style>\n",
       "<table border=\"1\" class=\"dataframe\">\n",
       "  <thead>\n",
       "    <tr style=\"text-align: right;\">\n",
       "      <th></th>\n",
       "      <th>month_name</th>\n",
       "      <th>show_id</th>\n",
       "      <th>share</th>\n",
       "    </tr>\n",
       "  </thead>\n",
       "  <tbody>\n",
       "    <tr>\n",
       "      <th>0</th>\n",
       "      <td>April</td>\n",
       "      <td>212</td>\n",
       "      <td>8.1</td>\n",
       "    </tr>\n",
       "    <tr>\n",
       "      <th>1</th>\n",
       "      <td>August</td>\n",
       "      <td>236</td>\n",
       "      <td>9.0</td>\n",
       "    </tr>\n",
       "    <tr>\n",
       "      <th>2</th>\n",
       "      <td>December</td>\n",
       "      <td>261</td>\n",
       "      <td>10.0</td>\n",
       "    </tr>\n",
       "    <tr>\n",
       "      <th>3</th>\n",
       "      <td>February</td>\n",
       "      <td>178</td>\n",
       "      <td>6.8</td>\n",
       "    </tr>\n",
       "    <tr>\n",
       "      <th>4</th>\n",
       "      <td>January</td>\n",
       "      <td>181</td>\n",
       "      <td>6.9</td>\n",
       "    </tr>\n",
       "    <tr>\n",
       "      <th>5</th>\n",
       "      <td>July</td>\n",
       "      <td>257</td>\n",
       "      <td>9.8</td>\n",
       "    </tr>\n",
       "    <tr>\n",
       "      <th>6</th>\n",
       "      <td>June</td>\n",
       "      <td>230</td>\n",
       "      <td>8.8</td>\n",
       "    </tr>\n",
       "    <tr>\n",
       "      <th>7</th>\n",
       "      <td>March</td>\n",
       "      <td>210</td>\n",
       "      <td>8.0</td>\n",
       "    </tr>\n",
       "    <tr>\n",
       "      <th>8</th>\n",
       "      <td>May</td>\n",
       "      <td>191</td>\n",
       "      <td>7.3</td>\n",
       "    </tr>\n",
       "    <tr>\n",
       "      <th>9</th>\n",
       "      <td>November</td>\n",
       "      <td>204</td>\n",
       "      <td>7.8</td>\n",
       "    </tr>\n",
       "    <tr>\n",
       "      <th>10</th>\n",
       "      <td>October</td>\n",
       "      <td>211</td>\n",
       "      <td>8.1</td>\n",
       "    </tr>\n",
       "    <tr>\n",
       "      <th>11</th>\n",
       "      <td>September</td>\n",
       "      <td>246</td>\n",
       "      <td>9.4</td>\n",
       "    </tr>\n",
       "  </tbody>\n",
       "</table>\n",
       "</div>"
      ],
      "text/plain": [
       "   month_name  show_id  share\n",
       "0       April      212    8.1\n",
       "1      August      236    9.0\n",
       "2    December      261   10.0\n",
       "3    February      178    6.8\n",
       "4     January      181    6.9\n",
       "5        July      257    9.8\n",
       "6        June      230    8.8\n",
       "7       March      210    8.0\n",
       "8         May      191    7.3\n",
       "9    November      204    7.8\n",
       "10    October      211    8.1\n",
       "11  September      246    9.4"
      ]
     },
     "execution_count": 334,
     "metadata": {},
     "output_type": "execute_result"
    }
   ],
   "source": [
    "# Создаем срез по сериалам\n",
    "show_month = show.groupby('month_name')['show_id'].count().to_frame().reset_index()\n",
    "\n",
    "# Доля \n",
    "show_month['share'] = (show_month['show_id'] / show_month['show_id'].sum()).round(3) *100\n",
    "show_month"
   ]
  },
  {
   "cell_type": "code",
   "execution_count": 335,
   "id": "eef07c8f",
   "metadata": {},
   "outputs": [
    {
     "data": {
      "image/png": "[encoded data removed]",
      "text/plain": [
       "<Figure size 1500x500 with 1 Axes>"
      ]
     },
     "metadata": {},
     "output_type": "display_data"
    }
   ],
   "source": [
    "    plt.figure(figsize=(15, 5))\n",
    "    plt.grid(True)\n",
    "    sns.barplot(x='month_name', y='show_id', \n",
    "                data=show_month, \n",
    "                palette=\"rocket\", \n",
    "                saturation=.5)\n",
    "    sns.set_style(\"whitegrid\")\n",
    "    plt.title('Количество выпущенных сериалов по месяцам', size=14)\n",
    "    plt.xlabel('Месяц', size=13)\n",
    "    plt.ylabel('Количество', size=13)\n",
    "    plt.show()"
   ]
  },
  {
   "cell_type": "markdown",
   "id": "529d7ee4",
   "metadata": {},
   "source": [
    "### Выводы:\n",
    "\n",
    "- Подавляющее число релизов происходит в пятницу (35.2%). \n",
    "- На втором месте (но с большим отрывом) - среда (14.2%);\n",
    "- Обычно сериалы стартуют в декабре (10%), июле (9.8%) и сентябре (9.4%)"
   ]
  },
  {
   "cell_type": "markdown",
   "id": "8f2777ce",
   "metadata": {},
   "source": [
    "<hr style=\"border: 2px solid green;\" />"
   ]
  },
  {
   "cell_type": "markdown",
   "id": "a75c69ed",
   "metadata": {},
   "source": [
    "###  Анализ продолжительности сериалов (количество сезонов)"
   ]
  },
  {
   "cell_type": "code",
   "execution_count": 336,
   "id": "b506a862",
   "metadata": {},
   "outputs": [
    {
     "data": {
      "text/html": [
       "<div>\n",
       "<style scoped>\n",
       "    .dataframe tbody tr th:only-of-type {\n",
       "        vertical-align: middle;\n",
       "    }\n",
       "\n",
       "    .dataframe tbody tr th {\n",
       "        vertical-align: top;\n",
       "    }\n",
       "\n",
       "    .dataframe thead th {\n",
       "        text-align: right;\n",
       "    }\n",
       "</style>\n",
       "<table border=\"1\" class=\"dataframe\">\n",
       "  <thead>\n",
       "    <tr style=\"text-align: right;\">\n",
       "      <th></th>\n",
       "      <th>duration</th>\n",
       "      <th>show_id</th>\n",
       "      <th>share</th>\n",
       "    </tr>\n",
       "  </thead>\n",
       "  <tbody>\n",
       "    <tr>\n",
       "      <th>0</th>\n",
       "      <td>1 Season</td>\n",
       "      <td>1765</td>\n",
       "      <td>67.2</td>\n",
       "    </tr>\n",
       "    <tr>\n",
       "      <th>1</th>\n",
       "      <td>2 Seasons</td>\n",
       "      <td>421</td>\n",
       "      <td>16.0</td>\n",
       "    </tr>\n",
       "    <tr>\n",
       "      <th>2</th>\n",
       "      <td>3 Seasons</td>\n",
       "      <td>198</td>\n",
       "      <td>7.5</td>\n",
       "    </tr>\n",
       "    <tr>\n",
       "      <th>3</th>\n",
       "      <td>4 Seasons</td>\n",
       "      <td>92</td>\n",
       "      <td>3.5</td>\n",
       "    </tr>\n",
       "    <tr>\n",
       "      <th>4</th>\n",
       "      <td>5 Seasons</td>\n",
       "      <td>62</td>\n",
       "      <td>2.4</td>\n",
       "    </tr>\n",
       "    <tr>\n",
       "      <th>5</th>\n",
       "      <td>6 Seasons</td>\n",
       "      <td>31</td>\n",
       "      <td>1.2</td>\n",
       "    </tr>\n",
       "    <tr>\n",
       "      <th>6</th>\n",
       "      <td>7 Seasons</td>\n",
       "      <td>20</td>\n",
       "      <td>0.8</td>\n",
       "    </tr>\n",
       "    <tr>\n",
       "      <th>7</th>\n",
       "      <td>8 Seasons</td>\n",
       "      <td>16</td>\n",
       "      <td>0.6</td>\n",
       "    </tr>\n",
       "    <tr>\n",
       "      <th>8</th>\n",
       "      <td>9 Seasons</td>\n",
       "      <td>8</td>\n",
       "      <td>0.3</td>\n",
       "    </tr>\n",
       "    <tr>\n",
       "      <th>9</th>\n",
       "      <td>10 Seasons</td>\n",
       "      <td>5</td>\n",
       "      <td>0.2</td>\n",
       "    </tr>\n",
       "    <tr>\n",
       "      <th>10</th>\n",
       "      <td>13 Seasons</td>\n",
       "      <td>3</td>\n",
       "      <td>0.1</td>\n",
       "    </tr>\n",
       "    <tr>\n",
       "      <th>11</th>\n",
       "      <td>12 Seasons</td>\n",
       "      <td>2</td>\n",
       "      <td>0.1</td>\n",
       "    </tr>\n",
       "    <tr>\n",
       "      <th>12</th>\n",
       "      <td>15 Seasons</td>\n",
       "      <td>2</td>\n",
       "      <td>0.1</td>\n",
       "    </tr>\n",
       "    <tr>\n",
       "      <th>13</th>\n",
       "      <td>11 Seasons</td>\n",
       "      <td>1</td>\n",
       "      <td>0.0</td>\n",
       "    </tr>\n",
       "    <tr>\n",
       "      <th>14</th>\n",
       "      <td>17 Seasons</td>\n",
       "      <td>1</td>\n",
       "      <td>0.0</td>\n",
       "    </tr>\n",
       "  </tbody>\n",
       "</table>\n",
       "</div>"
      ],
      "text/plain": [
       "      duration  show_id  share\n",
       "0     1 Season     1765   67.2\n",
       "1    2 Seasons      421   16.0\n",
       "2    3 Seasons      198    7.5\n",
       "3    4 Seasons       92    3.5\n",
       "4    5 Seasons       62    2.4\n",
       "5    6 Seasons       31    1.2\n",
       "6    7 Seasons       20    0.8\n",
       "7    8 Seasons       16    0.6\n",
       "8    9 Seasons        8    0.3\n",
       "9   10 Seasons        5    0.2\n",
       "10  13 Seasons        3    0.1\n",
       "11  12 Seasons        2    0.1\n",
       "12  15 Seasons        2    0.1\n",
       "13  11 Seasons        1    0.0\n",
       "14  17 Seasons        1    0.0"
      ]
     },
     "execution_count": 336,
     "metadata": {},
     "output_type": "execute_result"
    }
   ],
   "source": [
    "show.groupby('duration')['show_id'].count().to_frame().sort_values(by='show_id', ascending=False).reset_index()\n",
    "\n",
    "# Создаем срез\n",
    "show_duration = show.groupby('duration')['show_id'].count().to_frame().sort_values(by='show_id', ascending=False).reset_index()\n",
    "\n",
    "# Доля \n",
    "show_duration['share'] = (show_duration['show_id'] / show_duration['show_id'].sum()).round(3) *100\n",
    "show_duration"
   ]
  },
  {
   "cell_type": "code",
   "execution_count": 337,
   "id": "7ff8b42c",
   "metadata": {},
   "outputs": [
    {
     "data": {
      "image/png": "[encoded data removed]",
      "text/plain": [
       "<Figure size 1500x500 with 1 Axes>"
      ]
     },
     "metadata": {},
     "output_type": "display_data"
    }
   ],
   "source": [
    "    plt.figure(figsize=(15, 5))\n",
    "    plt.grid(True)\n",
    "    sns.barplot(x='duration', y='show_id', \n",
    "                data=show.groupby('duration')['show_id'].count().to_frame().reset_index().sort_values(by='show_id'), \n",
    "                palette=\"rocket\", \n",
    "                saturation=.5)\n",
    "    sns.set_style(\"whitegrid\")\n",
    "    plt.title('Количество сезонов', size=14)\n",
    "    plt.xlabel('Количество сезонов', size=13)\n",
    "    plt.ylabel('Количество', size=13)\n",
    "    plt.xticks(rotation=45)\n",
    "    plt.show()"
   ]
  },
  {
   "cell_type": "code",
   "execution_count": 338,
   "id": "f5222749",
   "metadata": {},
   "outputs": [
    {
     "data": {
      "text/plain": [
       "548    Grey's Anatomy\n",
       "Name: title, dtype: object"
      ]
     },
     "execution_count": 338,
     "metadata": {},
     "output_type": "execute_result"
    }
   ],
   "source": [
    "# Самый продолжительный сериал\n",
    "show[show['duration'] == '17 Seasons']['title']"
   ]
  },
  {
   "cell_type": "code",
   "execution_count": 339,
   "id": "42668108",
   "metadata": {},
   "outputs": [
    {
     "data": {
      "text/plain": [
       "2423    Supernatural\n",
       "4798            NCIS\n",
       "Name: title, dtype: object"
      ]
     },
     "execution_count": 339,
     "metadata": {},
     "output_type": "execute_result"
    }
   ],
   "source": [
    "show[show['duration'] == '15 Seasons']['title']"
   ]
  },
  {
   "cell_type": "code",
   "execution_count": 340,
   "id": "f3360b41",
   "metadata": {},
   "outputs": [
    {
     "data": {
      "text/plain": [
       "1354                 Heartland\n",
       "4220    COMEDIANS of the world\n",
       "7847              Red vs. Blue\n",
       "Name: title, dtype: object"
      ]
     },
     "execution_count": 340,
     "metadata": {},
     "output_type": "execute_result"
    }
   ],
   "source": [
    "show[show['duration'] == '13 Seasons']['title']"
   ]
  },
  {
   "cell_type": "markdown",
   "id": "b4dd30fb",
   "metadata": {},
   "source": [
    "### Выводы:\n",
    "\n",
    "- Подавляющее большинство сериалов (67.2%) имеют всего один сезон;\n",
    "- Самое длительное шоу - Grey's Anatomy (Анатомия страсти) - состоит из 17 сезонов."
   ]
  },
  {
   "cell_type": "markdown",
   "id": "1e30d82a",
   "metadata": {},
   "source": [
    "<hr style=\"border: 2px solid green;\" />"
   ]
  },
  {
   "cell_type": "markdown",
   "id": "69fe6b52",
   "metadata": {},
   "source": [
    "###  Анализ продолжительности фильмов"
   ]
  },
  {
   "cell_type": "code",
   "execution_count": 341,
   "id": "e1e03965",
   "metadata": {},
   "outputs": [],
   "source": [
    "# Создаем срез по фильмам\n",
    "movie = df_2[df_2['type'] == 'Movie']\n",
    "movie = movie.dropna()"
   ]
  },
  {
   "cell_type": "code",
   "execution_count": 342,
   "id": "09de79dc",
   "metadata": {},
   "outputs": [
    {
     "data": {
      "text/html": [
       "<div>\n",
       "<style scoped>\n",
       "    .dataframe tbody tr th:only-of-type {\n",
       "        vertical-align: middle;\n",
       "    }\n",
       "\n",
       "    .dataframe tbody tr th {\n",
       "        vertical-align: top;\n",
       "    }\n",
       "\n",
       "    .dataframe thead th {\n",
       "        text-align: right;\n",
       "    }\n",
       "</style>\n",
       "<table border=\"1\" class=\"dataframe\">\n",
       "  <thead>\n",
       "    <tr style=\"text-align: right;\">\n",
       "      <th></th>\n",
       "      <th>release_year</th>\n",
       "      <th>duration</th>\n",
       "    </tr>\n",
       "  </thead>\n",
       "  <tbody>\n",
       "    <tr>\n",
       "      <th>count</th>\n",
       "      <td>5652.000000</td>\n",
       "      <td>5652.000000</td>\n",
       "    </tr>\n",
       "    <tr>\n",
       "      <th>mean</th>\n",
       "      <td>2015.415605</td>\n",
       "      <td>98.280609</td>\n",
       "    </tr>\n",
       "    <tr>\n",
       "      <th>std</th>\n",
       "      <td>4.532717</td>\n",
       "      <td>27.219228</td>\n",
       "    </tr>\n",
       "    <tr>\n",
       "      <th>min</th>\n",
       "      <td>2000.000000</td>\n",
       "      <td>3.000000</td>\n",
       "    </tr>\n",
       "    <tr>\n",
       "      <th>25%</th>\n",
       "      <td>2014.000000</td>\n",
       "      <td>86.000000</td>\n",
       "    </tr>\n",
       "    <tr>\n",
       "      <th>50%</th>\n",
       "      <td>2017.000000</td>\n",
       "      <td>98.000000</td>\n",
       "    </tr>\n",
       "    <tr>\n",
       "      <th>75%</th>\n",
       "      <td>2019.000000</td>\n",
       "      <td>113.000000</td>\n",
       "    </tr>\n",
       "    <tr>\n",
       "      <th>max</th>\n",
       "      <td>2021.000000</td>\n",
       "      <td>312.000000</td>\n",
       "    </tr>\n",
       "  </tbody>\n",
       "</table>\n",
       "</div>"
      ],
      "text/plain": [
       "       release_year     duration\n",
       "count   5652.000000  5652.000000\n",
       "mean    2015.415605    98.280609\n",
       "std        4.532717    27.219228\n",
       "min     2000.000000     3.000000\n",
       "25%     2014.000000    86.000000\n",
       "50%     2017.000000    98.000000\n",
       "75%     2019.000000   113.000000\n",
       "max     2021.000000   312.000000"
      ]
     },
     "execution_count": 342,
     "metadata": {},
     "output_type": "execute_result"
    }
   ],
   "source": [
    "# С помощью регулярных выражений уберем 'min' из колонки duration, затем приведем к типу int\n",
    "def reg_words(row):\n",
    "    vac_name = row['duration']\n",
    "    vac_name = re.sub(\"[^0-9]\", \" \", vac_name).replace('  ', ' ')\n",
    "    vac_name = vac_name.replace(' ', '')\n",
    "    return vac_name\n",
    "\n",
    "movie['duration'] = movie.apply(reg_words, axis=1)\n",
    "movie['duration'] = movie['duration'].astype('int')\n",
    "movie.describe()"
   ]
  },
  {
   "cell_type": "code",
   "execution_count": 343,
   "id": "223ef97a",
   "metadata": {},
   "outputs": [
    {
     "name": "stdout",
     "output_type": "stream",
     "text": [
      "[ 15.5 202. ]\n"
     ]
    }
   ],
   "source": [
    "movie_duration = movie.groupby('duration')['show_id'].count().to_frame().reset_index().sort_values(by='show_id')\n",
    "\n",
    "print(np.percentile(movie_duration['duration'], [5, 95]))"
   ]
  },
  {
   "cell_type": "code",
   "execution_count": 344,
   "id": "0f3d2d72",
   "metadata": {},
   "outputs": [],
   "source": [
    "movie_duration = movie_duration.query('duration >= 15 and duration <= 202')"
   ]
  },
  {
   "cell_type": "code",
   "execution_count": 345,
   "id": "6c63a6c3",
   "metadata": {},
   "outputs": [
    {
     "data": {
      "image/png": "[encoded data removed]",
      "text/plain": [
       "<Figure size 2200x600 with 1 Axes>"
      ]
     },
     "metadata": {},
     "output_type": "display_data"
    }
   ],
   "source": [
    "    plt.figure(figsize=(22, 6))\n",
    "    plt.grid(True)\n",
    "    sns.barplot(x='duration', y='show_id', \n",
    "                data=movie_duration, \n",
    "                palette=\"rocket\", \n",
    "                saturation=.5)\n",
    "    sns.set_style(\"whitegrid\")\n",
    "    plt.title('Распределение фильмов по длительности (в минутах)', size=14)\n",
    "    plt.xlabel('Длительность фильма', size=13)\n",
    "    plt.ylabel('Количество фильмов', size=13)\n",
    "    plt.xticks(rotation=90)\n",
    "    plt.show()"
   ]
  },
  {
   "cell_type": "code",
   "execution_count": 346,
   "id": "a2c039bb",
   "metadata": {},
   "outputs": [
    {
     "data": {
      "text/html": [
       "<div>\n",
       "<style scoped>\n",
       "    .dataframe tbody tr th:only-of-type {\n",
       "        vertical-align: middle;\n",
       "    }\n",
       "\n",
       "    .dataframe tbody tr th {\n",
       "        vertical-align: top;\n",
       "    }\n",
       "\n",
       "    .dataframe thead th {\n",
       "        text-align: right;\n",
       "    }\n",
       "</style>\n",
       "<table border=\"1\" class=\"dataframe\">\n",
       "  <thead>\n",
       "    <tr style=\"text-align: right;\">\n",
       "      <th></th>\n",
       "      <th>show_id</th>\n",
       "      <th>type</th>\n",
       "      <th>title</th>\n",
       "      <th>director</th>\n",
       "      <th>cast</th>\n",
       "      <th>country</th>\n",
       "      <th>date_added</th>\n",
       "      <th>release_year</th>\n",
       "      <th>rating</th>\n",
       "      <th>duration</th>\n",
       "      <th>listed_in</th>\n",
       "      <th>description</th>\n",
       "      <th>date</th>\n",
       "      <th>year_month</th>\n",
       "      <th>weekday</th>\n",
       "      <th>month_name</th>\n",
       "    </tr>\n",
       "  </thead>\n",
       "  <tbody>\n",
       "    <tr>\n",
       "      <th>4253</th>\n",
       "      <td>s4254</td>\n",
       "      <td>Movie</td>\n",
       "      <td>Black Mirror: Bandersnatch</td>\n",
       "      <td>No Data</td>\n",
       "      <td>Fionn Whitehead, Will Poulter, Craig Parkinson...</td>\n",
       "      <td>United States</td>\n",
       "      <td>December 28, 2018</td>\n",
       "      <td>2018</td>\n",
       "      <td>TV-MA</td>\n",
       "      <td>312</td>\n",
       "      <td>Dramas, International Movies, Sci-Fi &amp; Fantasy</td>\n",
       "      <td>In 1984, a young programmer begins to question...</td>\n",
       "      <td>2018-12-28</td>\n",
       "      <td>2018-12</td>\n",
       "      <td>Friday</td>\n",
       "      <td>December</td>\n",
       "    </tr>\n",
       "  </tbody>\n",
       "</table>\n",
       "</div>"
      ],
      "text/plain": [
       "     show_id   type                       title director  \\\n",
       "4253   s4254  Movie  Black Mirror: Bandersnatch  No Data   \n",
       "\n",
       "                                                   cast        country  \\\n",
       "4253  Fionn Whitehead, Will Poulter, Craig Parkinson...  United States   \n",
       "\n",
       "             date_added  release_year rating  duration  \\\n",
       "4253  December 28, 2018          2018  TV-MA       312   \n",
       "\n",
       "                                           listed_in  \\\n",
       "4253  Dramas, International Movies, Sci-Fi & Fantasy   \n",
       "\n",
       "                                            description       date year_month  \\\n",
       "4253  In 1984, a young programmer begins to question... 2018-12-28    2018-12   \n",
       "\n",
       "     weekday month_name  \n",
       "4253  Friday   December  "
      ]
     },
     "execution_count": 346,
     "metadata": {},
     "output_type": "execute_result"
    }
   ],
   "source": [
    "# Самый продолжительный фильм\n",
    "movie[movie['duration'] == 312]"
   ]
  },
  {
   "cell_type": "code",
   "execution_count": 347,
   "id": "de86f941",
   "metadata": {},
   "outputs": [
    {
     "data": {
      "text/html": [
       "<div>\n",
       "<style scoped>\n",
       "    .dataframe tbody tr th:only-of-type {\n",
       "        vertical-align: middle;\n",
       "    }\n",
       "\n",
       "    .dataframe tbody tr th {\n",
       "        vertical-align: top;\n",
       "    }\n",
       "\n",
       "    .dataframe thead th {\n",
       "        text-align: right;\n",
       "    }\n",
       "</style>\n",
       "<table border=\"1\" class=\"dataframe\">\n",
       "  <thead>\n",
       "    <tr style=\"text-align: right;\">\n",
       "      <th></th>\n",
       "      <th>show_id</th>\n",
       "      <th>type</th>\n",
       "      <th>title</th>\n",
       "      <th>director</th>\n",
       "      <th>cast</th>\n",
       "      <th>country</th>\n",
       "      <th>date_added</th>\n",
       "      <th>release_year</th>\n",
       "      <th>rating</th>\n",
       "      <th>duration</th>\n",
       "      <th>listed_in</th>\n",
       "      <th>description</th>\n",
       "      <th>date</th>\n",
       "      <th>year_month</th>\n",
       "      <th>weekday</th>\n",
       "      <th>month_name</th>\n",
       "    </tr>\n",
       "  </thead>\n",
       "  <tbody>\n",
       "    <tr>\n",
       "      <th>3777</th>\n",
       "      <td>s3778</td>\n",
       "      <td>Movie</td>\n",
       "      <td>Silent</td>\n",
       "      <td>Limbert Fabian, Brandon Oldenburg</td>\n",
       "      <td>No Data</td>\n",
       "      <td>United States</td>\n",
       "      <td>June 4, 2019</td>\n",
       "      <td>2014</td>\n",
       "      <td>TV-Y</td>\n",
       "      <td>3</td>\n",
       "      <td>Children &amp; Family Movies, Sci-Fi &amp; Fantasy</td>\n",
       "      <td>\"Silent\" is an animated short film created by ...</td>\n",
       "      <td>2019-06-04</td>\n",
       "      <td>2019-06</td>\n",
       "      <td>Tuesday</td>\n",
       "      <td>June</td>\n",
       "    </tr>\n",
       "  </tbody>\n",
       "</table>\n",
       "</div>"
      ],
      "text/plain": [
       "     show_id   type   title                           director     cast  \\\n",
       "3777   s3778  Movie  Silent  Limbert Fabian, Brandon Oldenburg  No Data   \n",
       "\n",
       "            country    date_added  release_year rating  duration  \\\n",
       "3777  United States  June 4, 2019          2014   TV-Y         3   \n",
       "\n",
       "                                       listed_in  \\\n",
       "3777  Children & Family Movies, Sci-Fi & Fantasy   \n",
       "\n",
       "                                            description       date year_month  \\\n",
       "3777  \"Silent\" is an animated short film created by ... 2019-06-04    2019-06   \n",
       "\n",
       "      weekday month_name  \n",
       "3777  Tuesday       June  "
      ]
     },
     "execution_count": 347,
     "metadata": {},
     "output_type": "execute_result"
    }
   ],
   "source": [
    "# Самый короткий фильм (мультик)\n",
    "movie[movie['duration'] == 3]"
   ]
  },
  {
   "cell_type": "markdown",
   "id": "78b3031a",
   "metadata": {},
   "source": [
    "### Выводы:\n",
    "\n",
    "- Средняя продолжительность фильма - 98 минут\n",
    "- Самое продолжительный фильм - Black Mirror: Bandersnatch - длится 312 минуты\n"
   ]
  },
  {
   "cell_type": "markdown",
   "id": "268c7e01",
   "metadata": {},
   "source": [
    "<hr style=\"border: 2px solid green;\" />"
   ]
  },
  {
   "cell_type": "markdown",
   "id": "a7299057",
   "metadata": {},
   "source": [
    "### Анализ стран-производителей фильмов\\сериалов, представленных на Netflix"
   ]
  },
  {
   "cell_type": "code",
   "execution_count": 348,
   "id": "aff22be6",
   "metadata": {},
   "outputs": [],
   "source": [
    "# Добавление колонку с ведущей страной-создателем фильма или сериала\n",
    "df_2 = df_2.assign(leading_country = lambda x: x['country'].apply(lambda x: x.split(sep=',')[0]))"
   ]
  },
  {
   "cell_type": "code",
   "execution_count": 349,
   "id": "37faa758",
   "metadata": {},
   "outputs": [],
   "source": [
    "leading_country = (\n",
    "    df_2.groupby('leading_country')['show_id']\n",
    "    .count()\n",
    "    .to_frame()\n",
    "    .reset_index()\n",
    "    .sort_values(by='show_id', ascending=False)\n",
    ")\n",
    "leading_country = leading_country[leading_country['leading_country'] != 'No Data']"
   ]
  },
  {
   "cell_type": "code",
   "execution_count": 350,
   "id": "dab358f5",
   "metadata": {},
   "outputs": [
    {
     "data": {
      "text/html": [
       "<div>\n",
       "<style scoped>\n",
       "    .dataframe tbody tr th:only-of-type {\n",
       "        vertical-align: middle;\n",
       "    }\n",
       "\n",
       "    .dataframe tbody tr th {\n",
       "        vertical-align: top;\n",
       "    }\n",
       "\n",
       "    .dataframe thead th {\n",
       "        text-align: right;\n",
       "    }\n",
       "</style>\n",
       "<table border=\"1\" class=\"dataframe\">\n",
       "  <thead>\n",
       "    <tr style=\"text-align: right;\">\n",
       "      <th></th>\n",
       "      <th>leading_country</th>\n",
       "      <th>show_id</th>\n",
       "      <th>share</th>\n",
       "    </tr>\n",
       "  </thead>\n",
       "  <tbody>\n",
       "    <tr>\n",
       "      <th>80</th>\n",
       "      <td>United States</td>\n",
       "      <td>2936</td>\n",
       "      <td>39.3</td>\n",
       "    </tr>\n",
       "    <tr>\n",
       "      <th>30</th>\n",
       "      <td>India</td>\n",
       "      <td>924</td>\n",
       "      <td>12.4</td>\n",
       "    </tr>\n",
       "    <tr>\n",
       "      <th>79</th>\n",
       "      <td>United Kingdom</td>\n",
       "      <td>595</td>\n",
       "      <td>8.0</td>\n",
       "    </tr>\n",
       "    <tr>\n",
       "      <th>11</th>\n",
       "      <td>Canada</td>\n",
       "      <td>266</td>\n",
       "      <td>3.6</td>\n",
       "    </tr>\n",
       "    <tr>\n",
       "      <th>37</th>\n",
       "      <td>Japan</td>\n",
       "      <td>251</td>\n",
       "      <td>3.4</td>\n",
       "    </tr>\n",
       "    <tr>\n",
       "      <th>69</th>\n",
       "      <td>South Korea</td>\n",
       "      <td>211</td>\n",
       "      <td>2.8</td>\n",
       "    </tr>\n",
       "    <tr>\n",
       "      <th>21</th>\n",
       "      <td>France</td>\n",
       "      <td>203</td>\n",
       "      <td>2.7</td>\n",
       "    </tr>\n",
       "    <tr>\n",
       "      <th>70</th>\n",
       "      <td>Spain</td>\n",
       "      <td>181</td>\n",
       "      <td>2.4</td>\n",
       "    </tr>\n",
       "    <tr>\n",
       "      <th>45</th>\n",
       "      <td>Mexico</td>\n",
       "      <td>130</td>\n",
       "      <td>1.7</td>\n",
       "    </tr>\n",
       "    <tr>\n",
       "      <th>76</th>\n",
       "      <td>Turkey</td>\n",
       "      <td>110</td>\n",
       "      <td>1.5</td>\n",
       "    </tr>\n",
       "    <tr>\n",
       "      <th>2</th>\n",
       "      <td>Australia</td>\n",
       "      <td>110</td>\n",
       "      <td>1.5</td>\n",
       "    </tr>\n",
       "    <tr>\n",
       "      <th>23</th>\n",
       "      <td>Germany</td>\n",
       "      <td>101</td>\n",
       "      <td>1.4</td>\n",
       "    </tr>\n",
       "    <tr>\n",
       "      <th>13</th>\n",
       "      <td>China</td>\n",
       "      <td>100</td>\n",
       "      <td>1.3</td>\n",
       "    </tr>\n",
       "    <tr>\n",
       "      <th>19</th>\n",
       "      <td>Egypt</td>\n",
       "      <td>99</td>\n",
       "      <td>1.3</td>\n",
       "    </tr>\n",
       "    <tr>\n",
       "      <th>50</th>\n",
       "      <td>Nigeria</td>\n",
       "      <td>96</td>\n",
       "      <td>1.3</td>\n",
       "    </tr>\n",
       "  </tbody>\n",
       "</table>\n",
       "</div>"
      ],
      "text/plain": [
       "   leading_country  show_id  share\n",
       "80   United States     2936   39.3\n",
       "30           India      924   12.4\n",
       "79  United Kingdom      595    8.0\n",
       "11          Canada      266    3.6\n",
       "37           Japan      251    3.4\n",
       "69     South Korea      211    2.8\n",
       "21          France      203    2.7\n",
       "70           Spain      181    2.4\n",
       "45          Mexico      130    1.7\n",
       "76          Turkey      110    1.5\n",
       "2        Australia      110    1.5\n",
       "23         Germany      101    1.4\n",
       "13           China      100    1.3\n",
       "19           Egypt       99    1.3\n",
       "50         Nigeria       96    1.3"
      ]
     },
     "execution_count": 350,
     "metadata": {},
     "output_type": "execute_result"
    }
   ],
   "source": [
    "# Доля фильмов\\сериалов каждой страны на Netflix\n",
    "leading_country['share'] = (leading_country['show_id'] / leading_country['show_id'].sum()).round(3) *100\n",
    "leading_country.head(15)"
   ]
  },
  {
   "cell_type": "code",
   "execution_count": 351,
   "id": "1e2d7f6a",
   "metadata": {},
   "outputs": [
    {
     "data": {
      "image/png": "[encoded data removed]",
      "text/plain": [
       "<Figure size 1500x500 with 1 Axes>"
      ]
     },
     "metadata": {},
     "output_type": "display_data"
    }
   ],
   "source": [
    "    plt.figure(figsize=(15, 5))\n",
    "    plt.grid(True)\n",
    "    sns.barplot(y='leading_country', x='show_id', \n",
    "                data=leading_country.head(15), \n",
    "                palette=\"rocket\", \n",
    "                saturation=.5)\n",
    "    sns.set_style(\"whitegrid\")\n",
    "    plt.title('ТОП-15 стран по производству фильмов\\сериалов', size=14)\n",
    "    plt.xlabel('Количество', size=13)\n",
    "    plt.ylabel('Страна', size=13)\n",
    "    #plt.xticks(rotation=90)\n",
    "    plt.show()"
   ]
  },
  {
   "cell_type": "markdown",
   "id": "21202e9a",
   "metadata": {},
   "source": [
    "### Выводы:\n",
    "\n",
    "- Большая часть фильмов и сериалов на Netflix производства США - 39% \n",
    "- Далее следуют: Индия(12%), Великобритания(8%), Канада(3.6%), Япония(3.4%)\n"
   ]
  },
  {
   "cell_type": "markdown",
   "id": "031726a5",
   "metadata": {},
   "source": [
    "<hr style=\"border: 2px solid green;\" />"
   ]
  },
  {
   "cell_type": "markdown",
   "id": "cfb796a3",
   "metadata": {},
   "source": [
    "### Анализ возрастного рейтинга фильмов и сериалов"
   ]
  },
  {
   "cell_type": "markdown",
   "id": "6e155ec5",
   "metadata": {},
   "source": [
    "### Рейтинг фильмов\n",
    "\n",
    "`Рейтинговая система MPAA (Американская Киноассоциация, Motion Picture Association of America)`\n",
    "\n",
    "**Рейтинг G — General audiences**\n",
    "\n",
    "Фильм демонстрируется без ограничений. \n",
    "\n",
    "**Рейтинг PG**\n",
    "\n",
    "Детям рекомендуется смотреть фильм с родителями. Некоторые материалы могут не подходить для детей.\n",
    "\n",
    "**Рейтинг PG-13**\n",
    "\n",
    "Просмотр не желателен детям до 13 лет. \n",
    "\n",
    "**Рейтинг R**\n",
    "\n",
    "Лица, не достигшие 17-летнего возраста, допускаются на фильм только в сопровождении одного из родителей. Некоторый материал фильма предназначается только для взрослых. \n",
    "\n",
    "**Рейтинг NC-17**\n",
    "\n",
    "Лица 17-летнего возраста и младше на фильм не допускаются. Фильм может содержать сексуальные сцены, непристойную лексику, сцены  насилия. \n",
    "\n",
    "**NR (Not Rated)**\n",
    "\n",
    "Для фильмов, не получивших рейтинг Американской ассоциации, обычно используется обозначение NR (Not Rated), а для картин, вышедших в прокат до введения системы рейтингов (до 1 ноября 1968 года) — обозначение U (Unrated).\n",
    "\n",
    "***\n",
    "\n",
    "### Рейтинг сериалов\n",
    "\n",
    "**TV-Y**\n",
    "\n",
    "Подходит для очень юной аудитории, включая детей в возрасте от 2 до 6 лет.\n",
    "\n",
    "\n",
    "**TV-Y7**\n",
    "\n",
    "Подходит для детей от 7 лет и старше.\n",
    "\n",
    "**TV-G**\n",
    "\n",
    "Подходит для всех возрастов. Хотя не обязательно могут содержать контент, представляющий интерес для детей. \n",
    "\n",
    "**TV-PG**\n",
    "\n",
    "Сериалы с таким рейтингом могут включать ненормативную лексику и / или умеренное насилие.\n",
    "\n",
    "**TV-14**\n",
    "\n",
    "Подходит для детей младше 14 лет. Содержат грубый юмор, употребление наркотиков / алкоголя, ненормативную лексику, иногда насилие.\n",
    "\n",
    "**TV-MA**\n",
    "\n",
    "Контент для зрелой аудитории. Такие фильмы могут содержать грубую лексику, откровенный контент, наготу или насилие. Такие рейтинги редко встречаются на бесплатном эфирном телевидении. \n"
   ]
  },
  {
   "cell_type": "code",
   "execution_count": 352,
   "id": "f1f061b4",
   "metadata": {},
   "outputs": [
    {
     "data": {
      "text/html": [
       "<div>\n",
       "<style scoped>\n",
       "    .dataframe tbody tr th:only-of-type {\n",
       "        vertical-align: middle;\n",
       "    }\n",
       "\n",
       "    .dataframe tbody tr th {\n",
       "        vertical-align: top;\n",
       "    }\n",
       "\n",
       "    .dataframe thead th {\n",
       "        text-align: right;\n",
       "    }\n",
       "</style>\n",
       "<table border=\"1\" class=\"dataframe\">\n",
       "  <thead>\n",
       "    <tr style=\"text-align: right;\">\n",
       "      <th></th>\n",
       "      <th>rating</th>\n",
       "      <th>show_id</th>\n",
       "      <th>share</th>\n",
       "    </tr>\n",
       "  </thead>\n",
       "  <tbody>\n",
       "    <tr>\n",
       "      <th>9</th>\n",
       "      <td>TV-MA</td>\n",
       "      <td>3143</td>\n",
       "      <td>37.9</td>\n",
       "    </tr>\n",
       "    <tr>\n",
       "      <th>7</th>\n",
       "      <td>TV-14</td>\n",
       "      <td>2027</td>\n",
       "      <td>24.5</td>\n",
       "    </tr>\n",
       "    <tr>\n",
       "      <th>10</th>\n",
       "      <td>TV-PG</td>\n",
       "      <td>809</td>\n",
       "      <td>9.8</td>\n",
       "    </tr>\n",
       "    <tr>\n",
       "      <th>6</th>\n",
       "      <td>R</td>\n",
       "      <td>688</td>\n",
       "      <td>8.3</td>\n",
       "    </tr>\n",
       "    <tr>\n",
       "      <th>5</th>\n",
       "      <td>PG-13</td>\n",
       "      <td>421</td>\n",
       "      <td>5.1</td>\n",
       "    </tr>\n",
       "    <tr>\n",
       "      <th>12</th>\n",
       "      <td>TV-Y7</td>\n",
       "      <td>325</td>\n",
       "      <td>3.9</td>\n",
       "    </tr>\n",
       "    <tr>\n",
       "      <th>11</th>\n",
       "      <td>TV-Y</td>\n",
       "      <td>305</td>\n",
       "      <td>3.7</td>\n",
       "    </tr>\n",
       "    <tr>\n",
       "      <th>4</th>\n",
       "      <td>PG</td>\n",
       "      <td>240</td>\n",
       "      <td>2.9</td>\n",
       "    </tr>\n",
       "    <tr>\n",
       "      <th>8</th>\n",
       "      <td>TV-G</td>\n",
       "      <td>208</td>\n",
       "      <td>2.5</td>\n",
       "    </tr>\n",
       "    <tr>\n",
       "      <th>2</th>\n",
       "      <td>NR</td>\n",
       "      <td>73</td>\n",
       "      <td>0.9</td>\n",
       "    </tr>\n",
       "    <tr>\n",
       "      <th>0</th>\n",
       "      <td>G</td>\n",
       "      <td>25</td>\n",
       "      <td>0.3</td>\n",
       "    </tr>\n",
       "    <tr>\n",
       "      <th>3</th>\n",
       "      <td>No Data</td>\n",
       "      <td>7</td>\n",
       "      <td>0.1</td>\n",
       "    </tr>\n",
       "    <tr>\n",
       "      <th>13</th>\n",
       "      <td>TV-Y7-FV</td>\n",
       "      <td>6</td>\n",
       "      <td>0.1</td>\n",
       "    </tr>\n",
       "    <tr>\n",
       "      <th>1</th>\n",
       "      <td>NC-17</td>\n",
       "      <td>3</td>\n",
       "      <td>0.0</td>\n",
       "    </tr>\n",
       "    <tr>\n",
       "      <th>14</th>\n",
       "      <td>UR</td>\n",
       "      <td>2</td>\n",
       "      <td>0.0</td>\n",
       "    </tr>\n",
       "  </tbody>\n",
       "</table>\n",
       "</div>"
      ],
      "text/plain": [
       "      rating  show_id  share\n",
       "9      TV-MA     3143   37.9\n",
       "7      TV-14     2027   24.5\n",
       "10     TV-PG      809    9.8\n",
       "6          R      688    8.3\n",
       "5      PG-13      421    5.1\n",
       "12     TV-Y7      325    3.9\n",
       "11      TV-Y      305    3.7\n",
       "4         PG      240    2.9\n",
       "8       TV-G      208    2.5\n",
       "2         NR       73    0.9\n",
       "0          G       25    0.3\n",
       "3    No Data        7    0.1\n",
       "13  TV-Y7-FV        6    0.1\n",
       "1      NC-17        3    0.0\n",
       "14        UR        2    0.0"
      ]
     },
     "execution_count": 352,
     "metadata": {},
     "output_type": "execute_result"
    }
   ],
   "source": [
    "rating = df_2.groupby('rating')['show_id'].count().to_frame().reset_index().sort_values(by='show_id', ascending=False)\n",
    "\n",
    "# Доля каждого рейтинга\n",
    "rating['share'] = (rating['show_id'] / rating['show_id'].sum()).round(3) *100\n",
    "rating"
   ]
  },
  {
   "cell_type": "code",
   "execution_count": 353,
   "id": "0b6659eb",
   "metadata": {},
   "outputs": [
    {
     "data": {
      "image/png": "[encoded data removed]",
      "text/plain": [
       "<Figure size 1500x500 with 1 Axes>"
      ]
     },
     "metadata": {},
     "output_type": "display_data"
    }
   ],
   "source": [
    "plt.figure(figsize = (15,5))\n",
    "\n",
    "ax = sns.barplot(y='show_id', x= 'rating', \n",
    "                 data=df_2.groupby('rating')['show_id'].count().to_frame().reset_index().sort_values(by='show_id', ascending=False), \n",
    "                 palette=\"rocket\")\n",
    "plt.title('Количество фильмов и сериалов по рейтингам')\n",
    "plt.xlabel('Рейтинг')\n",
    "plt.ylabel('Количество')\n",
    "plt.grid()\n",
    "ax.tick_params(direction=\"in\", length=10)\n",
    "ax.set_axisbelow(True);"
   ]
  },
  {
   "cell_type": "code",
   "execution_count": 354,
   "id": "a8675c04",
   "metadata": {},
   "outputs": [
    {
     "data": {
      "image/png": "[encoded data removed]",
      "text/plain": [
       "<Figure size 1500x500 with 1 Axes>"
      ]
     },
     "metadata": {},
     "output_type": "display_data"
    }
   ],
   "source": [
    "plt.figure(figsize = (15,5))\n",
    "\n",
    "ax = sns.barplot(y='show_id', x= 'rating', \n",
    "                 data=df_2.groupby([ 'type', 'rating'])['show_id'].count().to_frame().reset_index(), \n",
    "                 hue = 'type', \n",
    "                 palette=palette)\n",
    "plt.title('Соотношение телевизионного рейтинга фильмов и сериалов')\n",
    "plt.xlabel('Рейтинг')\n",
    "plt.ylabel('Количество')\n",
    "plt.legend(loc='upper right')\n",
    "plt.grid()\n",
    "ax.tick_params(direction=\"in\", length=10)\n",
    "ax.set_axisbelow(True);"
   ]
  },
  {
   "cell_type": "markdown",
   "id": "374737ea",
   "metadata": {},
   "source": [
    "### Выводы:\n",
    "\n",
    "- Большая часть фильмов и сериалов на Netflix имеют рейтинг TV-MA (контент для зрелой аудитории) - 37.9%\n",
    "- Далее следует TV-14 (24.5%), т.е. подходит для детей младше 14 лет.\n",
    "- Интересно, что доля сериалов в рейтингах TV-Y и TV-Y7 превышает долю фильмов."
   ]
  },
  {
   "cell_type": "markdown",
   "id": "221b75a6",
   "metadata": {},
   "source": [
    "<hr style=\"border: 2px solid green;\" />"
   ]
  },
  {
   "cell_type": "markdown",
   "id": "d8b78ab6",
   "metadata": {},
   "source": [
    "## Итоговый вывод по проекту:\n",
    "\n",
    "В датасете срез фильмов и сериалов с 1925 по 2021 год.\n",
    "\n",
    "**Общее:**\n",
    "\n",
    "- Начиная с 1925 года количество релизов постепенно возрастало и достигло пика в 2018 году. Затем начался небольшой спад;\n",
    "- Значительное увеличение релизов фильмов и сериалов начинается с 2015 года. В 2021 наметился спад, вероятно, по причине пандемии в 2020.\n",
    "- Большая часть фильмов и сериалов на Netflix производства США - 39%. Далее следуют: Индия(12%), Великобритания(8%), Канада(3.6%), Япония(3.4%);\n",
    "- Большая часть фильмов и сериалов на Netflix имеют рейтинг TV-MA (контент для зрелой аудитории) 37.9%. Далее следует TV-14 (24.5%), т.е. подходит для детей младше 14 лет;\n",
    "- Интересно, что доля сериалов в рейтингах TV-Y и TV-Y7 превышает долю фильмов.\n",
    "\n",
    "**Сериалы:**\n",
    "\n",
    "- Доля выпущенных сериалов с 2000 года - 32%;\n",
    "- Подавляющее число релизов происходит **в пятницу (35.2%)**. На втором месте (но с большим отрывом) - **среда (14.2%)**;\n",
    "- Обычно **сериалы стартуют в декабре (10%)**, июле (9.8%) и сентябре (9.4%);\n",
    "- Подавляющее большинство сериалов (67.2%) имеют **всего один сезон**;\n",
    "- Самый длительное сериал - Grey's Anatomy (Анатомия страсти) - состоит из 17 сезонов.\n",
    "- В 2021 количество релизов сериалов превысило количество фильмов. Свою роль сыграла пандемия, кинотеатры закрыты, сильно возрос интерес к стриминговым сервисам по подписке такой тренд сохраняется и сейчас;\n",
    "\n",
    "**Фильмы:**\n",
    "\n",
    "- Доля выпущенных фильмов с 2000 года - 68%;\n",
    "- Средняя продолжительность фильма - **98 минут**;\n",
    "- Самое продолжительный фильм - Black Mirror: Bandersnatch - длится 312 минуты\n",
    "- Пик релизов фильмов приходится на 2017-2018 года. Начиная с 2019 количество выпущенных фильмов начало сокращаться (в т.ч. по причине пандемии);\n"
   ]
  },
  {
   "cell_type": "markdown",
   "id": "e9d00e8e",
   "metadata": {},
   "source": [
    "***"
   ]
  }
 ],
 "metadata": {
  "kernelspec": {
   "display_name": "Python 3 (ipykernel)",
   "language": "python",
   "name": "python3"
  },
  "language_info": {
   "codemirror_mode": {
    "name": "ipython",
    "version": 3
   },
   "file_extension": ".py",
   "mimetype": "text/x-python",
   "name": "python",
   "nbconvert_exporter": "python",
   "pygments_lexer": "ipython3",
   "version": "3.8.13"
  }
 },
 "nbformat": 4,
 "nbformat_minor": 5
}
